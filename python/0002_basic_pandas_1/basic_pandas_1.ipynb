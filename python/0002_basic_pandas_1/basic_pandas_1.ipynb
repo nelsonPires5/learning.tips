{
 "cells": [
  {
   "cell_type": "code",
   "execution_count": 65,
   "metadata": {},
   "outputs": [],
   "source": [
    "import pandas as pd\n",
    "import numpy as np"
   ]
  },
  {
   "cell_type": "code",
   "execution_count": 66,
   "metadata": {},
   "outputs": [],
   "source": [
    "# Creating a dataset\n",
    "dataset = {'name': ['John', 'Mary', 'Edwards', 'Rose', 'James', 'Emily', 'Ellie', 'Julius', 'Thomas', 'Jesus'],\n",
    "          'age': [1992, 1985, 1997, 1967, 1991, 1990, 1978, np.nan, 1995, 1992],\n",
    "          'gender': ['m', 'f', 'm', 'f', 'm', 'f', 'f', 'm', 'm', 'm'],\n",
    "          'country': ['EUA', 'BRAZIL', 'CHILE', 'EUA', 'EUA', 'BRAZIL', 'ARGENTINA', 'BRAZIL', 'BRAZIL', np.nan]}"
   ]
  },
  {
   "cell_type": "code",
   "execution_count": 67,
   "metadata": {},
   "outputs": [
    {
     "name": "stdout",
     "output_type": "stream",
     "text": [
      "<class 'pandas.core.frame.DataFrame'>\n",
      "RangeIndex: 10 entries, 0 to 9\n",
      "Data columns (total 4 columns):\n",
      "name       10 non-null object\n",
      "age        9 non-null float64\n",
      "gender     10 non-null object\n",
      "country    9 non-null object\n",
      "dtypes: float64(1), object(3)\n",
      "memory usage: 400.0+ bytes\n"
     ]
    }
   ],
   "source": [
    "# Creating a dataframe with pd\n",
    "df = pd.DataFrame(dataset)\n",
    "df.info()"
   ]
  },
  {
   "cell_type": "code",
   "execution_count": 68,
   "metadata": {},
   "outputs": [],
   "source": [
    "# Note: that age and country has just 9 items\n",
    "# And age column format is float64, and have to be int32\n",
    "# But first have to clean all dataset"
   ]
  },
  {
   "cell_type": "code",
   "execution_count": 69,
   "metadata": {},
   "outputs": [
    {
     "data": {
      "text/html": [
       "<div>\n",
       "<style scoped>\n",
       "    .dataframe tbody tr th:only-of-type {\n",
       "        vertical-align: middle;\n",
       "    }\n",
       "\n",
       "    .dataframe tbody tr th {\n",
       "        vertical-align: top;\n",
       "    }\n",
       "\n",
       "    .dataframe thead th {\n",
       "        text-align: right;\n",
       "    }\n",
       "</style>\n",
       "<table border=\"1\" class=\"dataframe\">\n",
       "  <thead>\n",
       "    <tr style=\"text-align: right;\">\n",
       "      <th></th>\n",
       "      <th>name</th>\n",
       "      <th>age</th>\n",
       "      <th>gender</th>\n",
       "      <th>country</th>\n",
       "    </tr>\n",
       "  </thead>\n",
       "  <tbody>\n",
       "    <tr>\n",
       "      <th>0</th>\n",
       "      <td>John</td>\n",
       "      <td>1992</td>\n",
       "      <td>m</td>\n",
       "      <td>EUA</td>\n",
       "    </tr>\n",
       "    <tr>\n",
       "      <th>1</th>\n",
       "      <td>Mary</td>\n",
       "      <td>1985</td>\n",
       "      <td>f</td>\n",
       "      <td>BRAZIL</td>\n",
       "    </tr>\n",
       "    <tr>\n",
       "      <th>2</th>\n",
       "      <td>Edwards</td>\n",
       "      <td>1997</td>\n",
       "      <td>m</td>\n",
       "      <td>CHILE</td>\n",
       "    </tr>\n",
       "    <tr>\n",
       "      <th>3</th>\n",
       "      <td>Rose</td>\n",
       "      <td>1967</td>\n",
       "      <td>f</td>\n",
       "      <td>EUA</td>\n",
       "    </tr>\n",
       "    <tr>\n",
       "      <th>4</th>\n",
       "      <td>James</td>\n",
       "      <td>1991</td>\n",
       "      <td>m</td>\n",
       "      <td>EUA</td>\n",
       "    </tr>\n",
       "    <tr>\n",
       "      <th>5</th>\n",
       "      <td>Emily</td>\n",
       "      <td>1990</td>\n",
       "      <td>f</td>\n",
       "      <td>BRAZIL</td>\n",
       "    </tr>\n",
       "    <tr>\n",
       "      <th>6</th>\n",
       "      <td>Ellie</td>\n",
       "      <td>1978</td>\n",
       "      <td>f</td>\n",
       "      <td>ARGENTINA</td>\n",
       "    </tr>\n",
       "    <tr>\n",
       "      <th>8</th>\n",
       "      <td>Thomas</td>\n",
       "      <td>1995</td>\n",
       "      <td>m</td>\n",
       "      <td>BRAZIL</td>\n",
       "    </tr>\n",
       "  </tbody>\n",
       "</table>\n",
       "</div>"
      ],
      "text/plain": [
       "      name   age gender    country\n",
       "0     John  1992      m        EUA\n",
       "1     Mary  1985      f     BRAZIL\n",
       "2  Edwards  1997      m      CHILE\n",
       "3     Rose  1967      f        EUA\n",
       "4    James  1991      m        EUA\n",
       "5    Emily  1990      f     BRAZIL\n",
       "6    Ellie  1978      f  ARGENTINA\n",
       "8   Thomas  1995      m     BRAZIL"
      ]
     },
     "execution_count": 69,
     "metadata": {},
     "output_type": "execute_result"
    }
   ],
   "source": [
    "# Cleaning and converting data\n",
    "df.dropna(inplace=True) # Pop a row that have nan value\n",
    "df['age'] = df['age'].astype(int)\n",
    "df"
   ]
  },
  {
   "cell_type": "code",
   "execution_count": 70,
   "metadata": {},
   "outputs": [
    {
     "data": {
      "text/html": [
       "<div>\n",
       "<style scoped>\n",
       "    .dataframe tbody tr th:only-of-type {\n",
       "        vertical-align: middle;\n",
       "    }\n",
       "\n",
       "    .dataframe tbody tr th {\n",
       "        vertical-align: top;\n",
       "    }\n",
       "\n",
       "    .dataframe thead th {\n",
       "        text-align: right;\n",
       "    }\n",
       "</style>\n",
       "<table border=\"1\" class=\"dataframe\">\n",
       "  <thead>\n",
       "    <tr style=\"text-align: right;\">\n",
       "      <th></th>\n",
       "      <th>name</th>\n",
       "      <th>age</th>\n",
       "      <th>gender</th>\n",
       "      <th>country</th>\n",
       "    </tr>\n",
       "  </thead>\n",
       "  <tbody>\n",
       "    <tr>\n",
       "      <th>1</th>\n",
       "      <td>Mary</td>\n",
       "      <td>1985</td>\n",
       "      <td>f</td>\n",
       "      <td>BRAZIL</td>\n",
       "    </tr>\n",
       "    <tr>\n",
       "      <th>3</th>\n",
       "      <td>Rose</td>\n",
       "      <td>1967</td>\n",
       "      <td>f</td>\n",
       "      <td>EUA</td>\n",
       "    </tr>\n",
       "    <tr>\n",
       "      <th>5</th>\n",
       "      <td>Emily</td>\n",
       "      <td>1990</td>\n",
       "      <td>f</td>\n",
       "      <td>BRAZIL</td>\n",
       "    </tr>\n",
       "    <tr>\n",
       "      <th>6</th>\n",
       "      <td>Ellie</td>\n",
       "      <td>1978</td>\n",
       "      <td>f</td>\n",
       "      <td>ARGENTINA</td>\n",
       "    </tr>\n",
       "  </tbody>\n",
       "</table>\n",
       "</div>"
      ],
      "text/plain": [
       "    name   age gender    country\n",
       "1   Mary  1985      f     BRAZIL\n",
       "3   Rose  1967      f        EUA\n",
       "5  Emily  1990      f     BRAZIL\n",
       "6  Ellie  1978      f  ARGENTINA"
      ]
     },
     "execution_count": 70,
     "metadata": {},
     "output_type": "execute_result"
    }
   ],
   "source": [
    "# Now let's see analyze the dataset\n",
    "# How many people born in 1990 or before\n",
    "df[df['age'] <= 1990]"
   ]
  },
  {
   "cell_type": "code",
   "execution_count": 71,
   "metadata": {},
   "outputs": [
    {
     "data": {
      "text/html": [
       "<div>\n",
       "<style scoped>\n",
       "    .dataframe tbody tr th:only-of-type {\n",
       "        vertical-align: middle;\n",
       "    }\n",
       "\n",
       "    .dataframe tbody tr th {\n",
       "        vertical-align: top;\n",
       "    }\n",
       "\n",
       "    .dataframe thead th {\n",
       "        text-align: right;\n",
       "    }\n",
       "</style>\n",
       "<table border=\"1\" class=\"dataframe\">\n",
       "  <thead>\n",
       "    <tr style=\"text-align: right;\">\n",
       "      <th></th>\n",
       "      <th>name</th>\n",
       "      <th>age</th>\n",
       "      <th>gender</th>\n",
       "      <th>country</th>\n",
       "    </tr>\n",
       "  </thead>\n",
       "  <tbody>\n",
       "    <tr>\n",
       "      <th>1</th>\n",
       "      <td>Mary</td>\n",
       "      <td>1985</td>\n",
       "      <td>f</td>\n",
       "      <td>BRAZIL</td>\n",
       "    </tr>\n",
       "    <tr>\n",
       "      <th>5</th>\n",
       "      <td>Emily</td>\n",
       "      <td>1990</td>\n",
       "      <td>f</td>\n",
       "      <td>BRAZIL</td>\n",
       "    </tr>\n",
       "    <tr>\n",
       "      <th>8</th>\n",
       "      <td>Thomas</td>\n",
       "      <td>1995</td>\n",
       "      <td>m</td>\n",
       "      <td>BRAZIL</td>\n",
       "    </tr>\n",
       "  </tbody>\n",
       "</table>\n",
       "</div>"
      ],
      "text/plain": [
       "     name   age gender country\n",
       "1    Mary  1985      f  BRAZIL\n",
       "5   Emily  1990      f  BRAZIL\n",
       "8  Thomas  1995      m  BRAZIL"
      ]
     },
     "execution_count": 71,
     "metadata": {},
     "output_type": "execute_result"
    }
   ],
   "source": [
    "# How many people are from brazil\n",
    "df[df['country'] == 'BRAZIL']"
   ]
  },
  {
   "cell_type": "code",
   "execution_count": 72,
   "metadata": {},
   "outputs": [],
   "source": [
    "# Note:  you can't use operator and/or from python because\n",
    "# in that case you are comparing many to many, \n",
    "# and that kind of operator just handle with simple comparisson."
   ]
  },
  {
   "cell_type": "code",
   "execution_count": 73,
   "metadata": {},
   "outputs": [
    {
     "data": {
      "text/html": [
       "<div>\n",
       "<style scoped>\n",
       "    .dataframe tbody tr th:only-of-type {\n",
       "        vertical-align: middle;\n",
       "    }\n",
       "\n",
       "    .dataframe tbody tr th {\n",
       "        vertical-align: top;\n",
       "    }\n",
       "\n",
       "    .dataframe thead th {\n",
       "        text-align: right;\n",
       "    }\n",
       "</style>\n",
       "<table border=\"1\" class=\"dataframe\">\n",
       "  <thead>\n",
       "    <tr style=\"text-align: right;\">\n",
       "      <th></th>\n",
       "      <th>name</th>\n",
       "      <th>age</th>\n",
       "      <th>gender</th>\n",
       "      <th>country</th>\n",
       "    </tr>\n",
       "  </thead>\n",
       "  <tbody>\n",
       "    <tr>\n",
       "      <th>8</th>\n",
       "      <td>Thomas</td>\n",
       "      <td>1995</td>\n",
       "      <td>m</td>\n",
       "      <td>BRAZIL</td>\n",
       "    </tr>\n",
       "  </tbody>\n",
       "</table>\n",
       "</div>"
      ],
      "text/plain": [
       "     name   age gender country\n",
       "8  Thomas  1995      m  BRAZIL"
      ]
     },
     "execution_count": 73,
     "metadata": {},
     "output_type": "execute_result"
    }
   ],
   "source": [
    "# How many people are from brazil and born after 1990\n",
    "df[(df['country'] == 'BRAZIL') & (df['age'] > 1990)]"
   ]
  },
  {
   "cell_type": "code",
   "execution_count": 75,
   "metadata": {},
   "outputs": [
    {
     "data": {
      "text/html": [
       "<div>\n",
       "<style scoped>\n",
       "    .dataframe tbody tr th:only-of-type {\n",
       "        vertical-align: middle;\n",
       "    }\n",
       "\n",
       "    .dataframe tbody tr th {\n",
       "        vertical-align: top;\n",
       "    }\n",
       "\n",
       "    .dataframe thead th {\n",
       "        text-align: right;\n",
       "    }\n",
       "</style>\n",
       "<table border=\"1\" class=\"dataframe\">\n",
       "  <thead>\n",
       "    <tr style=\"text-align: right;\">\n",
       "      <th></th>\n",
       "      <th>name</th>\n",
       "      <th>age</th>\n",
       "      <th>gender</th>\n",
       "      <th>country</th>\n",
       "    </tr>\n",
       "  </thead>\n",
       "  <tbody>\n",
       "    <tr>\n",
       "      <th>0</th>\n",
       "      <td>John</td>\n",
       "      <td>1992</td>\n",
       "      <td>m</td>\n",
       "      <td>EUA</td>\n",
       "    </tr>\n",
       "    <tr>\n",
       "      <th>1</th>\n",
       "      <td>Mary</td>\n",
       "      <td>1985</td>\n",
       "      <td>f</td>\n",
       "      <td>BRAZIL</td>\n",
       "    </tr>\n",
       "    <tr>\n",
       "      <th>3</th>\n",
       "      <td>Rose</td>\n",
       "      <td>1967</td>\n",
       "      <td>f</td>\n",
       "      <td>EUA</td>\n",
       "    </tr>\n",
       "    <tr>\n",
       "      <th>4</th>\n",
       "      <td>James</td>\n",
       "      <td>1991</td>\n",
       "      <td>m</td>\n",
       "      <td>EUA</td>\n",
       "    </tr>\n",
       "    <tr>\n",
       "      <th>6</th>\n",
       "      <td>Ellie</td>\n",
       "      <td>1978</td>\n",
       "      <td>f</td>\n",
       "      <td>ARGENTINA</td>\n",
       "    </tr>\n",
       "  </tbody>\n",
       "</table>\n",
       "</div>"
      ],
      "text/plain": [
       "    name   age gender    country\n",
       "0   John  1992      m        EUA\n",
       "1   Mary  1985      f     BRAZIL\n",
       "3   Rose  1967      f        EUA\n",
       "4  James  1991      m        EUA\n",
       "6  Ellie  1978      f  ARGENTINA"
      ]
     },
     "execution_count": 75,
     "metadata": {},
     "output_type": "execute_result"
    }
   ],
   "source": [
    "# How many people are from EUA or born before 1990\n",
    "df[(df['country'] == 'EUA') | (df['age'] < 1990)]"
   ]
  },
  {
   "cell_type": "code",
   "execution_count": 79,
   "metadata": {},
   "outputs": [],
   "source": [
    "# Exporting treated dataframe\n",
    "df.to_csv('02_basic_pandas.csv', index=False) # Index false for don't add a new column with dataframe index"
   ]
  },
  {
   "cell_type": "code",
   "execution_count": null,
   "metadata": {},
   "outputs": [],
   "source": []
  }
 ],
 "metadata": {
  "kernelspec": {
   "display_name": "Python 3",
   "language": "python",
   "name": "python3"
  },
  "language_info": {
   "codemirror_mode": {
    "name": "ipython",
    "version": 3
   },
   "file_extension": ".py",
   "mimetype": "text/x-python",
   "name": "python",
   "nbconvert_exporter": "python",
   "pygments_lexer": "ipython3",
   "version": "3.7.1"
  }
 },
 "nbformat": 4,
 "nbformat_minor": 2
}
