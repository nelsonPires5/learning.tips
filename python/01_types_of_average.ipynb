{
 "cells": [
  {
   "cell_type": "markdown",
   "metadata": {},
   "source": [
    "There are 3 types of averages: Mean, Median and Mode\n",
    "\n",
    "Mean is a calculated \"central\" value of a list of numbers. So is the sum of all numbers divided by number of elements. For calculate don't need to sort numbers before.\n",
    "Median is the \"middle\" of a sorted list of numbers.\n",
    "Mode is a value that most appear at your list of numbers."
   ]
  },
  {
   "cell_type": "code",
   "execution_count": 2,
   "metadata": {},
   "outputs": [
    {
     "name": "stdout",
     "output_type": "stream",
     "text": [
      "Mean :61.38095238095238\n",
      "Median :61.0\n",
      "Mode :ModeResult(mode=array([62]), count=array([3]))\n"
     ]
    }
   ],
   "source": [
    "%matplotlib inline\n",
    "import numpy as np\n",
    "from scipy import stats\n",
    "\n",
    "# Alex timed 21 people in the sprint race, to the nearest second:\n",
    "dataset = [59, 65, 61, 62, 53, 55, 60, 70, 64, 56, 58, 58, 62, 62, 68, 65, 56, 59, 68, 61, 67]\n",
    "\n",
    "# Mean Value\n",
    "mean = np.mean(dataset)\n",
    "\n",
    "# Median Value\n",
    "median = np.median(dataset)\n",
    "\n",
    "# Mode Value\n",
    "mode = stats.mode(dataset) # Return the value of the mode number and how many times did it appear\n",
    "\n",
    "# Showing Values\n",
    "print(f\"Mean :{mean}\")\n",
    "print(f\"Median :{median}\")\n",
    "print(f\"Mode :{mode}\")"
   ]
  },
  {
   "cell_type": "code",
   "execution_count": 26,
   "metadata": {},
   "outputs": [
    {
     "data": {
      "image/png": "[encoded data removed]",
      "text/plain": [
       "<Figure size 432x288 with 1 Axes>"
      ]
     },
     "metadata": {
      "needs_background": "light"
     },
     "output_type": "display_data"
    }
   ],
   "source": [
    "# Simple visualizing\n",
    "import matplotlib.pyplot as plt\n",
    "import numpy as np\n",
    "\n",
    "plt.hist(dataset, bins = 10)\n",
    "plt.show()"
   ]
  },
  {
   "cell_type": "code",
   "execution_count": 27,
   "metadata": {},
   "outputs": [
    {
     "name": "stdout",
     "output_type": "stream",
     "text": [
      "[59, 65, 61, 62, 53, 55, 60, 70, 64, 56, 58, 68, 67]\n",
      "[3, 3, 3, 4, 2, 2, 2, 2, 2, 3, 3, 3, 2]\n"
     ]
    }
   ],
   "source": [
    "# Treat the data to visualize, we need x for value and y for number of times that appear\n",
    "x = []\n",
    "y = []\n",
    "for number in dataset:\n",
    "    if number not in x:\n",
    "        x.append(number)\n",
    "        y.append(1)\n",
    "    if number in x:\n",
    "        i = x.index(number)\n",
    "        ant = y[i]\n",
    "        y.pop(i)\n",
    "        y.insert(i, ant+1)\n",
    "\n",
    "print(x)\n",
    "print(y)"
   ]
  },
  {
   "cell_type": "code",
   "execution_count": 28,
   "metadata": {},
   "outputs": [
    {
     "data": {
      "image/png": "[encoded data removed]",
      "text/plain": [
       "<Figure size 432x288 with 1 Axes>"
      ]
     },
     "metadata": {
      "needs_background": "light"
     },
     "output_type": "display_data"
    }
   ],
   "source": [
    "# Better Visualizing\n",
    "plt.bar(x,y)\n",
    "plt.xticks(np.arange(min(x), max(x)+1, 1.0))\n",
    "plt.show()"
   ]
  }
 ],
 "metadata": {
  "kernelspec": {
   "display_name": "Python 3",
   "language": "python",
   "name": "python3"
  },
  "language_info": {
   "codemirror_mode": {
    "name": "ipython",
    "version": 3
   },
   "file_extension": ".py",
   "mimetype": "text/x-python",
   "name": "python",
   "nbconvert_exporter": "python",
   "pygments_lexer": "ipython3",
   "version": "3.7.3"
  }
 },
 "nbformat": 4,
 "nbformat_minor": 2
}
